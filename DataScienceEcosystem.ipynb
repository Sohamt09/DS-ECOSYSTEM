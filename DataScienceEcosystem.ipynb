{
 "cells": [
  {
   "cell_type": "markdown",
   "id": "39000351-b1fd-458e-aa4d-ac3cb49b08fa",
   "metadata": {},
   "source": [
    "# Data Science Tools and Ecosystems"
   ]
  },
  {
   "cell_type": "markdown",
   "id": "82f501af-2edb-4910-83e3-70f314ab494a",
   "metadata": {},
   "source": [
    "# In this notebook, Data Science Tools and Ecosystem are summarized."
   ]
  },
  {
   "cell_type": "markdown",
   "id": "d87ac738-db3b-4b49-8579-030eba491d84",
   "metadata": {
    "tags": []
   },
   "source": [
    "# Some of the popular languages that Data Scientists use are:"
   ]
  },
  {
   "cell_type": "markdown",
   "id": "885713e9-399d-46c2-af8e-abec1d6af741",
   "metadata": {},
   "source": [
    "1. Python\n",
    "2. R\n",
    "3. Julia"
   ]
  },
  {
   "cell_type": "markdown",
   "id": "1ca89713-5f7b-4af3-bb60-233f89369e0d",
   "metadata": {},
   "source": [
    "# Some of the commonly used libraries used by Data Scientists include:"
   ]
  },
  {
   "cell_type": "markdown",
   "id": "99700a11-9771-4aad-88ba-93a51c0ce445",
   "metadata": {
    "tags": []
   },
   "source": [
    "1. Matplotlib\n",
    "2. NumPy\n",
    "3. Pandas\n"
   ]
  },
  {
   "cell_type": "markdown",
   "id": "ab9e943f-69c5-47fd-9325-a0608d6f7580",
   "metadata": {},
   "source": [
    "# Table"
   ]
  },
  {
   "cell_type": "markdown",
   "id": "03179207-a61e-4d72-80d8-aa00274b2685",
   "metadata": {
    "tags": []
   },
   "source": [
    "| Data Science Tools |\n",
    "|----|\n",
    "| Jupyter Notebook |\n",
    "| RStudio |\n",
    "| Spyder |"
   ]
  },
  {
   "cell_type": "markdown",
   "id": "af78dfc2-ebba-46c0-a5a1-1c8831d559da",
   "metadata": {},
   "source": [
    "### Below are a few examples of evaluating arithmetic expressions in Python"
   ]
  },
  {
   "cell_type": "markdown",
   "id": "d582fe06-9427-42e3-86af-378022f0ed3c",
   "metadata": {},
   "source": [
    "$ x^2 + y^2 = z^2 $"
   ]
  },
  {
   "cell_type": "code",
   "execution_count": 1,
   "id": "dfe02bbd-4622-4392-b86e-280bb0c94f79",
   "metadata": {
    "tags": []
   },
   "outputs": [
    {
     "data": {
      "text/plain": [
       "17"
      ]
     },
     "execution_count": 1,
     "metadata": {},
     "output_type": "execute_result"
    }
   ],
   "source": [
    "# This a simple arithmetic expression to mutiply then add integers\n",
    "result=(3*4)+5\n",
    "result\n",
    "\n"
   ]
  },
  {
   "cell_type": "code",
   "execution_count": 2,
   "id": "fb8f8547-b954-4619-97bb-760cecb27b4d",
   "metadata": {
    "tags": []
   },
   "outputs": [
    {
     "data": {
      "text/plain": [
       "3.3333333333333335"
      ]
     },
     "execution_count": 2,
     "metadata": {},
     "output_type": "execute_result"
    }
   ],
   "source": [
    "# This will convert 200 minutes to hours by dividing by 60\n",
    "hours = 200 / 60\n",
    "hours\n"
   ]
  },
  {
   "cell_type": "markdown",
   "id": "580ee54c-c57e-4bbf-bbe4-b1b3d968995d",
   "metadata": {},
   "source": [
    "**Objectives:**\n",
    "\n",
    "- List popular languages for Data Science\n",
    "- Understand basic arithmetic operations\n",
    "- Convert units of time\n",
    "- Write and execute Python code\n",
    "- Comment code effectively\n"
   ]
  },
  {
   "cell_type": "markdown",
   "id": "73f5dced-58e7-4358-ac40-f6a18905c736",
   "metadata": {},
   "source": [
    "## AUTHOR\n",
    "Soham Tonape"
   ]
  },
  {
   "cell_type": "code",
   "execution_count": null,
   "id": "a2ed804f-ac73-4d06-9996-582b53fbd048",
   "metadata": {},
   "outputs": [],
   "source": []
  }
 ],
 "metadata": {
  "kernelspec": {
   "display_name": "Python",
   "language": "python",
   "name": "conda-env-python-py"
  },
  "language_info": {
   "codemirror_mode": {
    "name": "ipython",
    "version": 3
   },
   "file_extension": ".py",
   "mimetype": "text/x-python",
   "name": "python",
   "nbconvert_exporter": "python",
   "pygments_lexer": "ipython3",
   "version": "3.7.12"
  }
 },
 "nbformat": 4,
 "nbformat_minor": 5
}
